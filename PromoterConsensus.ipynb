{
 "cells": [
  {
   "cell_type": "code",
   "execution_count": 1,
   "metadata": {},
   "outputs": [],
   "source": [
    "with open(\"RegulonDB_TF.txt\", \"r\") as R:\n",
    "    TFB_raw = R.read()\n",
    "    \n",
    "with open(\"RegulonDB_Promoter.txt\", \"r\") as R:\n",
    "    Promoters_raw = R.read()"
   ]
  },
  {
   "cell_type": "code",
   "execution_count": 2,
   "metadata": {},
   "outputs": [
    {
     "name": "stdout",
     "output_type": "stream",
     "text": [
      "[['ECK120015994', 'AcrR', 'ECK125258528', '485709', '485732', 'reverse', 'ECK120033472', 'acrAB', '-', 'acrAp', '-22.5', 'gcgttagattTACATACATTTGTGAATGTATGTAccatagcacg', '[BCE|W|Binding of cellular extracts],[GEA|W|Gene expression analysis],[BPP|S|Binding of purified proteins],[HIBSCS|W|Human inference based on similarity to consensus sequences]', 'Strong'], ['ECK120015994', 'AcrR', 'ECK125258528', '485709', '485732', 'forward', 'ECK125134945', 'acrR', '-', 'acrRp', '22.5', 'cgtgctatggTACATACATTCACAAATGTATGTAaatctaacgc', '[BCE|W|Binding of cellular extracts],[GEA|W|Gene expression analysis],[AIBSCS|W|Automated inference based on similarity to consensus sequences],[BPP|S|Binding of purified proteins],[HIBSCS|W|Human inference based on similarity to consensus sequences]', 'Strong'], ['ECK120015994', 'AcrR', 'ECK125202663', '1619048', '1619058', 'forward', 'ECK125202664', 'marRAB', '-', 'marRp', '-40.5', 'catcggtcaaTTCATTCATTtgacttatac', '[GEA|W|Gene expression analysis],[BPP|S|Binding of purified proteins],[HIBSCS|W|Human inference based on similarity to consensus sequences]', 'Strong'], ['ECK120015994', 'AcrR', 'ECK125242724', '1978422', '1978432', 'reverse', 'ECK125242725', 'flhDC', '-', 'flhDp', '-31.5', 'tcactacacgCACATACAACggaggggggc', '[GEA|W|Gene expression analysis],[HIBSCS|W|Human inference based on similarity to consensus sequences]', 'Weak'], ['ECK120015994', 'AcrR', 'ECK120035040', '2313112', '2313135', 'forward', 'ECK120035041', 'micF', '-', 'micFp', '41', 'atttattaccGTCATTCATTTCTGAATGTCTGTTtacccctatt', '[AIBSCS|W|Automated inference based on similarity to consensus sequences]', 'Weak'], ['ECK120015994', 'AcrR', 'ECK125202665', '4277444', '4277454', 'forward', 'ECK125202666', 'soxR', '-', 'soxRp', '2.5', 'gctttacctcAAGTTAACTTgaggaattat', '[GEA|W|Gene expression analysis],[BPP|S|Binding of purified proteins],[HIBSCS|W|Human inference based on similarity to consensus sequences]', 'Strong'], ['ECK120015994', 'AcrR', 'ECK125202665', '4277444', '4277454', 'reverse', 'ECK125202667', 'soxS', '-', 'soxSp', '-25.5', 'ataattcctcAAGTTAACTTgaggtaaagc', '[GEA|W|Gene expression analysis],[BPP|S|Binding of purified proteins],[HIBSCS|W|Human inference based on similarity to consensus sequences]', 'Strong'], ['ECK120012595', 'Ada', 'ECK120012597', '2147589', '2147613', 'reverse', 'ECK120031098', 'alkA', '+', 'alkAp', '-41.5', 'ttcagacgctGCGCTTTGCTTTCATATTCCGGTTgtcgcgacgg', '[GEA|W|Gene expression analysis],[SM|S|Site mutation],[BPP|S|Binding of purified proteins],[HIBSCS|W|Human inference based on similarity to consensus sequences]', 'Strong'], ['ECK120012595', 'Ada', 'ECK125110266', '2310454', '2310478', 'reverse', 'ECK125110267', 'ada-alkB', '-', 'adap', '-38.5', 'ggtcaccatcACGCAAAAACCAACAATCTTGCGCtttaattttt', '[GEA|W|Gene expression analysis],[SM|S|Site mutation],[BPP|S|Binding of purified proteins],[HIBSCS|W|Human inference based on similarity to consensus sequences]', 'Strong'], ['ECK120012595', 'Ada', 'ECK120012905', '2310474', '2310498', 'reverse', 'ECK120031887', 'ada-alkB', '+', 'adap', '-58.5', 'caacaatcttGCGCTTTAATTTTTTTCGCTGACAaggaagcttt', '[GEA|W|Gene expression analysis],[SM|S|Site mutation],[BPP|S|Binding of purified proteins],[HIBSCS|W|Human inference based on similarity to consensus sequences]', 'Strong']]\n"
     ]
    }
   ],
   "source": [
    "TFB = TFB_raw.split(\"\\n\")\n",
    "Promoters = Promoters_raw.split(\"\\n\")\n",
    "\n",
    "Stripped_TFB = []\n",
    "for x in TFB:\n",
    "    if len(x) > 0:\n",
    "        if x[0] != \"#\":\n",
    "            Stripped_TFB.append(x.split(\"\\t\"))\n",
    "        \n",
    "Stripped_Promoters = []\n",
    "for x in Promoters:\n",
    "    if len(x) > 0:\n",
    "        if x[0] != \"#\":\n",
    "            Stripped_Promoters.append(x.split(\"\\t\"))\n",
    "\n",
    "print(Stripped_TFB[:10]) \n"
   ]
  },
  {
   "cell_type": "code",
   "execution_count": 3,
   "metadata": {},
   "outputs": [],
   "source": [
    "CRP_TFB = []\n",
    "for x in Stripped_TFB:\n",
    "    if x[1] == \"CRP\":\n",
    "        CRP_TFB.append(x)\n",
    "\n",
    "CRP_Promoters = []\n",
    "for x in CRP_TFB: # Ow, O(n^2). But, it doesn't seem to matter too much\n",
    "    for y in Stripped_Promoters:\n",
    "        if x[9] == y[1]:\n",
    "            CRP_Promoters.append(y)\n"
   ]
  },
  {
   "cell_type": "code",
   "execution_count": 43,
   "metadata": {},
   "outputs": [],
   "source": [
    "pos_promoters_is = []\n",
    "for i, x in enumerate(CRP_TFB):\n",
    "    if x[8] == \"+\" and x[-1] == \"Strong\":\n",
    "        pos_promoters_is.append(i)\n",
    "\n",
    "seqs = []\n",
    "for i in pos_promoters_is:\n",
    "    seqs.append(CRP_Promoters[i][5].upper())\n"
   ]
  },
  {
   "cell_type": "code",
   "execution_count": 44,
   "metadata": {},
   "outputs": [
    {
     "data": {
      "text/plain": [
       "1"
      ]
     },
     "execution_count": 44,
     "metadata": {},
     "output_type": "execute_result"
    }
   ],
   "source": [
    "from Bio.Align import MultipleSeqAlignment\n",
    "from Bio.SeqRecord import SeqRecord\n",
    "from Bio.Seq import Seq\n",
    "from Bio.Alphabet import generic_dna\n",
    "from Bio import AlignIO\n",
    "seqrecords = [SeqRecord(Seq(z, generic_dna), id = str(pos_promoters_is[i])) for i, z in enumerate(seqs)]\n",
    "unaligned = MultipleSeqAlignment(seqrecords)\n",
    "AlignIO.write(unaligned, \"zz.fasta\", \"fasta\")"
   ]
  },
  {
   "cell_type": "code",
   "execution_count": 50,
   "metadata": {},
   "outputs": [],
   "source": [
    "from Bio.Align.Applications import MuscleCommandline\n",
    "muscle_exe = \"muscle.exe\"\n",
    "muscle_cline = MuscleCommandline(muscle_exe, input=\"zz.fasta\", out = \"res.fasta\")\n",
    "stdout, stderr = muscle_cline()\n"
   ]
  },
  {
   "cell_type": "code",
   "execution_count": 59,
   "metadata": {},
   "outputs": [
    {
     "name": "stdout",
     "output_type": "stream",
     "text": [
      "TCAGGGAGATGXGXXXXXXXXXXXXXXXXXXXXXXXXXXXXXXXXXXXXXXXXXXXXXXXXXXXXXXXXXXXXXXXXXXXXXXXXXXXXXXXXXXXXXXXXXXXXXXXXXXXXXXXXXXXXGGA\n"
     ]
    }
   ],
   "source": [
    "from Bio.Align.AlignInfo import SummaryInfo\n",
    "aligned = AlignIO.read(\"res.fasta\", \"fasta\")\n",
    "print(SummaryInfo(aligned).dumb_consensus(0.9))"
   ]
  }
 ],
 "metadata": {
  "kernelspec": {
   "display_name": "Python 3",
   "language": "python",
   "name": "python3"
  },
  "language_info": {
   "codemirror_mode": {
    "name": "ipython",
    "version": 3
   },
   "file_extension": ".py",
   "mimetype": "text/x-python",
   "name": "python",
   "nbconvert_exporter": "python",
   "pygments_lexer": "ipython3",
   "version": "3.6.8"
  }
 },
 "nbformat": 4,
 "nbformat_minor": 2
}
