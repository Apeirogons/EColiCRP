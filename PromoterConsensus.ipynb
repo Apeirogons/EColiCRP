{
 "cells": [
  {
   "cell_type": "code",
   "execution_count": 1,
   "metadata": {},
   "outputs": [],
   "source": [
    "with open(\"RegulonDB_TF.txt\", \"r\") as R:\n",
    "    TFB_raw = R.read()\n",
    "    \n",
    "with open(\"RegulonDB_Promoter.txt\", \"r\") as R:\n",
    "    Promoters_raw = R.read()"
   ]
  },
  {
   "cell_type": "code",
   "execution_count": 2,
   "metadata": {},
   "outputs": [],
   "source": [
    "def split_by_upper(z): \n",
    "    for i in range(len(z)):\n",
    "        if z[i] == z[i].upper():\n",
    "            return z[:i]"
   ]
  },
  {
   "cell_type": "code",
   "execution_count": 3,
   "metadata": {},
   "outputs": [],
   "source": [
    "TFB = TFB_raw.split(\"\\n\")\n",
    "Promoters = Promoters_raw.split(\"\\n\")\n",
    "\n",
    "Stripped_TFB = []\n",
    "for x in TFB:\n",
    "    if len(x) > 0:\n",
    "        if x[0] != \"#\":\n",
    "            Stripped_TFB.append(x.split(\"\\t\"))\n",
    "        \n",
    "Stripped_Promoters = []\n",
    "for x in Promoters:\n",
    "    if len(x) > 0:\n",
    "        if x[0] != \"#\":\n",
    "            Stripped_Promoters.append(x.split(\"\\t\"))\n"
   ]
  },
  {
   "cell_type": "code",
   "execution_count": 4,
   "metadata": {},
   "outputs": [],
   "source": [
    "CRP_TFB = []\n",
    "for x in Stripped_TFB:\n",
    "    if x[1] == \"CRP\":\n",
    "        CRP_TFB.append(x)\n",
    "\n",
    "CRP_Promoters = []\n",
    "for x in CRP_TFB: # Ow, O(n^2). But, it doesn't seem to matter too much\n",
    "    for y in Stripped_Promoters:\n",
    "        if x[9] == y[1]:\n",
    "            CRP_Promoters.append(y)\n"
   ]
  },
  {
   "cell_type": "code",
   "execution_count": 5,
   "metadata": {},
   "outputs": [],
   "source": [
    "def get_uppercase_chars(s):\n",
    "    build = []\n",
    "    for i in range(len(s)):\n",
    "        if s[i].upper() == s[i]:\n",
    "            build.append(s[i])\n",
    "    return \"\".join(build)"
   ]
  },
  {
   "cell_type": "code",
   "execution_count": 6,
   "metadata": {},
   "outputs": [],
   "source": [
    "pos_promoters_is = []\n",
    "for i, x in enumerate(CRP_TFB):\n",
    "    if x[8] == \"+\" #and x[-1] == \"Strong\":\n",
    "        pos_promoters_is.append(i)\n",
    "\n",
    "seqs = []\n",
    "for i in pos_promoters_is:\n",
    "    #dna = get_uppercase_chars(CRP_TFB[i][11]) \n",
    "    dna = split_by_upper(CRP_Promoters[i][5]).upper() #split by upper?\n",
    "    seqs.append(dna)\n",
    "\n",
    "\n",
    "new_seqs = [] \n",
    "max_length_seqs = max([len(x) for x in seqs])\n",
    "for i, x in enumerate(seqs):\n",
    "    if len(x) != 0:\n",
    "        new_seqs.append(x + \"-\"*(max_length_seqs - len(x)))\n",
    "    else:\n",
    "        pos_promoters_is.remove(pos_promoters_is[i])\n",
    "seqs = new_seqs\n"
   ]
  },
  {
   "cell_type": "code",
   "execution_count": 7,
   "metadata": {},
   "outputs": [
    {
     "data": {
      "text/plain": [
       "1"
      ]
     },
     "execution_count": 7,
     "metadata": {},
     "output_type": "execute_result"
    }
   ],
   "source": [
    "from Bio.Align import MultipleSeqAlignment\n",
    "from Bio.SeqRecord import SeqRecord\n",
    "from Bio.Seq import Seq\n",
    "from Bio.Alphabet import generic_dna\n",
    "from Bio import AlignIO\n",
    "seqrecords = [SeqRecord(Seq(z, generic_dna), id = str(pos_promoters_is[i])) for i, z in enumerate(seqs)]\n",
    "unaligned = MultipleSeqAlignment(seqrecords)\n",
    "AlignIO.write(unaligned, \"zz.fasta\", \"fasta\")"
   ]
  },
  {
   "cell_type": "code",
   "execution_count": 8,
   "metadata": {},
   "outputs": [],
   "source": [
    "from Bio.Align.Applications import MuscleCommandline\n",
    "muscle_exe = \"muscle.exe\"\n",
    "muscle_cline = MuscleCommandline(muscle_exe, input=\"zz.fasta\", out = \"res.fasta\")\n",
    "stdout, stderr = muscle_cline()\n"
   ]
  },
  {
   "cell_type": "code",
   "execution_count": 9,
   "metadata": {
    "scrolled": true
   },
   "outputs": [
    {
     "name": "stdout",
     "output_type": "stream",
     "text": [
      "----------------------------XXXXXXXXXXXXXXXXXXXXXXXXTTXXXXXTX----XXXXXXXXXXXXXXT------------XXXXXXX----------------------------\n"
     ]
    }
   ],
   "source": [
    "from Bio.Align.AlignInfo import SummaryInfo\n",
    "aligned = AlignIO.read(\"res.fasta\", \"fasta\")\n",
    "print(SummaryInfo(aligned).gap_consensus(0.5))"
   ]
  },
  {
   "cell_type": "code",
   "execution_count": 21,
   "metadata": {},
   "outputs": [
    {
     "name": "stdout",
     "output_type": "stream",
     "text": [
      "-----------XATGTXXXXXXXXTXXXXXXXAXXAXXXXXTXXAXXXXTXXTTTXAXXTT----TXXTXXXXTAAXTTT----XXXXTXXXXTAXXXTXXTATTXXTTXCXXCC------------\n",
      "103\n",
      "102\n",
      "101\n",
      "100\n",
      "91\n",
      "83\n",
      "80\n",
      "74\n",
      "71\n",
      "66\n",
      "63\n",
      "62\n",
      "61\n",
      "59\n",
      "56\n",
      "55\n",
      "50\n",
      "47\n",
      "42\n",
      "41\n",
      "40\n",
      "38\n",
      "37\n",
      "36\n",
      "27\n",
      "22\n",
      "21\n",
      "17\n",
      "14\n",
      "13\n",
      "12\n",
      "11\n",
      "8\n",
      "7\n",
      "5\n",
      "2\n",
      "1\n"
     ]
    }
   ],
   "source": [
    "aligned_seqs = [z.seq for z in aligned]\n",
    "ATCG = [[0 for y in range(5)] for x in range(len(aligned_seqs[0]))]\n",
    "options = [\"A\", \"T\", \"C\", \"G\", \"-\"]\n",
    "for seq in aligned_seqs:\n",
    "    for i in range(len(seq)):\n",
    "        for io, base in enumerate(options):\n",
    "            if seq[i] == base:\n",
    "                ATCG[i][io] +=1\n",
    "                break\n",
    "\n",
    "consensus = []\n",
    "for point in ATCG:\n",
    "    actual_total = sum(point[0:4])\n",
    "    proportions = [base/actual_total for base in point[0:4]]\n",
    "    maxN = max(proportions)\n",
    "    n = 8\n",
    "    if maxN > 0.40 and actual_total > n:\n",
    "        consensus.append(options[proportions.index(maxN)])\n",
    "    elif actual_total < n:\n",
    "        consensus.append(\"-\")\n",
    "    else:\n",
    "        consensus.append(\"X\")\n",
    "            \n",
    "print(\"\".join(consensus))\n",
    "\n",
    "\n"
   ]
  }
 ],
 "metadata": {
  "kernelspec": {
   "display_name": "Python 3",
   "language": "python",
   "name": "python3"
  },
  "language_info": {
   "codemirror_mode": {
    "name": "ipython",
    "version": 3
   },
   "file_extension": ".py",
   "mimetype": "text/x-python",
   "name": "python",
   "nbconvert_exporter": "python",
   "pygments_lexer": "ipython3",
   "version": "3.6.8"
  }
 },
 "nbformat": 4,
 "nbformat_minor": 2
}
